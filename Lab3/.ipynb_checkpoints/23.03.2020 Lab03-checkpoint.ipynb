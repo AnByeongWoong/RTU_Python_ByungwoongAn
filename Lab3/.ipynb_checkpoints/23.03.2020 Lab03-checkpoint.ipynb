{
 "cells": [
  {
   "cell_type": "code",
   "execution_count": 1,
   "metadata": {},
   "outputs": [
    {
     "name": "stdout",
     "output_type": "stream",
     "text": [
      "Max =  75.80370274889873 , x =  1.5599999999999887\n"
     ]
    }
   ],
   "source": [
    "import math\n",
    "\n",
    "a = 77.\n",
    "deltax = 0.005\n",
    "vmax=0\n",
    "xmax=0;\n",
    "\n",
    "myfile = open(\"data.txt\", \"w\");\n",
    "\n",
    "x = 0.;\n",
    "\n",
    "while (x<6.):\n",
    "   y = a * math.sin(x)*math.exp(-x/100.);\n",
    "   if (y > vmax):\n",
    "       vmax = y;\n",
    "       xmax = x;\n",
    "   text = str(x) + \" \" + str(y) + \"\\n\"\n",
    "   myfile.write(text)\n",
    "   x = x + deltax;\n",
    "\n",
    "print(\"Max = \", vmax, \", x = \", xmax)\n",
    "\n",
    "myfile.close();"
   ]
  },
  {
   "cell_type": "code",
   "execution_count": null,
   "metadata": {},
   "outputs": [],
   "source": []
  }
 ],
 "metadata": {
  "kernelspec": {
   "display_name": "Python 3",
   "language": "python",
   "name": "python3"
  },
  "language_info": {
   "codemirror_mode": {
    "name": "ipython",
    "version": 3
   },
   "file_extension": ".py",
   "mimetype": "text/x-python",
   "name": "python",
   "nbconvert_exporter": "python",
   "pygments_lexer": "ipython3",
   "version": "3.7.6"
  }
 },
 "nbformat": 4,
 "nbformat_minor": 2
}
