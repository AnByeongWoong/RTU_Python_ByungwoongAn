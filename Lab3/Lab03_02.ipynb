{
 "cells": [
  {
   "cell_type": "code",
   "execution_count": 6,
   "metadata": {},
   "outputs": [
    {
     "name": "stdout",
     "output_type": "stream",
     "text": [
      "Min =  -27.255833563744368 , x =  4.719999999999922\n"
     ]
    }
   ],
   "source": [
    "import math\n",
    "\n",
    "a = 26.\n",
    "deltax = 0.005\n",
    "vmin=100000\n",
    "xmin=0;\n",
    "\n",
    "myfile = open(\"data2.txt\", \"w\");\n",
    "\n",
    "x = 0.;\n",
    "\n",
    "while (x<6.):\n",
    "   y = a * math.sin(x)*math.exp(x/100.);\n",
    "   if (y < vmin):\n",
    "       vmin = y;\n",
    "       xmin = x;\n",
    "   text = str(x) + \" \" + str(y) + \"\\n\"\n",
    "   myfile.write(text)\n",
    "   x = x + deltax;\n",
    "\n",
    "print(\"Min = \", vmin, \", x = \", xmin)\n",
    "\n",
    "myfile.close();"
   ]
  },
  {
   "cell_type": "code",
   "execution_count": null,
   "metadata": {},
   "outputs": [],
   "source": []
  },
  {
   "cell_type": "code",
   "execution_count": null,
   "metadata": {},
   "outputs": [],
   "source": []
  }
 ],
 "metadata": {
  "kernelspec": {
   "display_name": "Python 3",
   "language": "python",
   "name": "python3"
  },
  "language_info": {
   "codemirror_mode": {
    "name": "ipython",
    "version": 3
   },
   "file_extension": ".py",
   "mimetype": "text/x-python",
   "name": "python",
   "nbconvert_exporter": "python",
   "pygments_lexer": "ipython3",
   "version": "3.7.6"
  }
 },
 "nbformat": 4,
 "nbformat_minor": 2
}
