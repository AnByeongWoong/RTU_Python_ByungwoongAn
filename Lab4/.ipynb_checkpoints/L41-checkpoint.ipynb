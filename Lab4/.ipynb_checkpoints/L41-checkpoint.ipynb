{
 "cells": [
  {
   "cell_type": "code",
   "execution_count": 18,
   "metadata": {},
   "outputs": [
    {
     "name": "stdout",
     "output_type": "stream",
     "text": [
      "Given:  [5, 3, 8, 6, 7, 2]\n",
      "Sorted:  [2, 3, 5, 6, 7, 8]\n"
     ]
    }
   ],
   "source": [
    "# L40.py\n",
    "# ByungwoongAn 200ADB026\n",
    "def sort(nums):\n",
    "    for i in range(len(nums)-1,0,-1):\n",
    "        for j in range(i):\n",
    "            if nums[j]>nums[j+1]:\n",
    "                temp = nums[j]\n",
    "                nums[j] = nums[j+1]\n",
    "                nums[j+1] = temp\n",
    "\n",
    "nums = [5, 3, 8, 6, 7, 2]\n",
    "print(\"Given: \", nums)\n",
    "sort(nums)\n",
    "print(\"Sorted: \",nums)"
   ]
  },
  {
   "cell_type": "code",
   "execution_count": 28,
   "metadata": {},
   "outputs": [
    {
     "name": "stdout",
     "output_type": "stream",
     "text": [
      "Given:  [3, 3, 3, 3, 2]\n",
      "5\n",
      "2\n",
      "3\n",
      "2.8\n",
      "3\n",
      "1\n",
      "Sorted:  [2, 3, 3, 3, 3]\n"
     ]
    }
   ],
   "source": [
    "# L41.py\n",
    "# ByungwoongAn 200ADB026\n",
    "\n",
    "def sort(nums):\n",
    "    for i in range(len(nums)-1,0,-1):\n",
    "        for j in range(i):\n",
    "            if nums[j]>nums[j+1]:\n",
    "                temp = nums[j]\n",
    "                nums[j] = nums[j+1]\n",
    "                nums[j+1] = temp\n",
    "\n",
    "\n",
    "def a_numberOfElementsInSet(list):\n",
    "    return len(list)\n",
    "\n",
    "def b_minimumNumericValueOfSetElement(list):\n",
    "    min = list[0]\n",
    "    for temp in list:\n",
    "        if min > temp:\n",
    "            min = temp\n",
    "    return min\n",
    "\n",
    "def c_maximumNumericValueOfSetElement(list):\n",
    "    max = list[0]\n",
    "    for temp in list:\n",
    "        if max < temp:\n",
    "            max = temp\n",
    "    return max\n",
    "def d_arithmeticAverageOfSet(list):\n",
    "    avg = 0\n",
    "    for temp in list:\n",
    "        avg+=temp\n",
    "    \n",
    "    return avg/len(list)\n",
    "\n",
    "def e_midianValueOfSet(list):\n",
    "    sort(list)\n",
    "    if len(list) % 2 == 0 :\n",
    "        avg = (list[(len(list)-1)//2] + list[(len(list)-1)//2+1])/2\n",
    "        return avg\n",
    "    else:\n",
    "        return list[(len(list)-1)//2]\n",
    "    \n",
    "def f_g_modeValueOfSet(list):\n",
    "    sort(list)\n",
    "    value = []\n",
    "    modeCount = []\n",
    "    index = 0\n",
    "    temp = None\n",
    "    for listIndex in list:\n",
    "        if temp == listIndex:\n",
    "            modeCount[index]+=1\n",
    "        else:\n",
    "            if temp != None:\n",
    "                index+=1\n",
    "            else:\n",
    "                temp = listIndex    \n",
    "            value.append(temp)\n",
    "            modeCount.append(1)\n",
    "    maxCount = c_maximumNumericValueOfSetElement(modeCount)\n",
    "    key = 0\n",
    "    for numOfMode in modeCount:\n",
    "        if numOfMode == maxCount:\n",
    "            key+=1\n",
    "        if key > 1:\n",
    "            return maxCount\n",
    "    print(\"index\", index)\n",
    "    for i in range(index+1):\n",
    "        if maxCount == modeCount[i]:\n",
    "            return value[i]\n",
    "\n",
    "#nums = [5, 3, 8, 6, 7, 2]\n",
    "nums = [3, 3, 3, 3, 2]\n",
    "print(\"Given: \", nums)\n",
    "sort(nums)\n",
    "print(a_numberOfElementsInSet(nums))\n",
    "print(b_minimumNumericValueOfSetElement(nums))\n",
    "print(c_maximumNumericValueOfSetElement(nums))\n",
    "print(d_arithmeticAverageOfSet(nums))\n",
    "print(e_midianValueOfSet(nums))\n",
    "print(f_g_modeValueOfSet(nums))\n",
    "\n",
    "\n",
    "\n",
    "\n",
    "print(\"Sorted: \",nums)"
   ]
  },
  {
   "cell_type": "code",
   "execution_count": null,
   "metadata": {},
   "outputs": [],
   "source": []
  }
 ],
 "metadata": {
  "kernelspec": {
   "display_name": "Python 3",
   "language": "python",
   "name": "python3"
  },
  "language_info": {
   "codemirror_mode": {
    "name": "ipython",
    "version": 3
   },
   "file_extension": ".py",
   "mimetype": "text/x-python",
   "name": "python",
   "nbconvert_exporter": "python",
   "pygments_lexer": "ipython3",
   "version": "3.7.6"
  }
 },
 "nbformat": 4,
 "nbformat_minor": 2
}
