{
 "cells": [
  {
   "cell_type": "code",
   "execution_count": 18,
   "metadata": {},
   "outputs": [
    {
     "name": "stdout",
     "output_type": "stream",
     "text": [
      "Given:  [5, 3, 8, 6, 7, 2]\n",
      "Sorted:  [2, 3, 5, 6, 7, 8]\n"
     ]
    }
   ],
   "source": [
    "# L40.py\n",
    "# ByungwoongAn 200ADB026\n",
    "def sort(nums):\n",
    "    for i in range(len(nums)-1,0,-1):\n",
    "        for j in range(i):\n",
    "            if nums[j]>nums[j+1]:\n",
    "                temp = nums[j]\n",
    "                nums[j] = nums[j+1]\n",
    "                nums[j+1] = temp\n",
    "\n",
    "nums = [5, 3, 8, 6, 7, 2]\n",
    "print(\"Given: \", nums)\n",
    "sort(nums)\n",
    "print(\"Sorted: \",nums)"
   ]
  },
  {
   "cell_type": "code",
   "execution_count": 37,
   "metadata": {},
   "outputs": [
    {
     "name": "stdout",
     "output_type": "stream",
     "text": [
      "Given:  [3, 3, 3, 3, 2, 2, 2, 2, 2, 3, 6, 6, 6, 6, 6, 6, 6]\n",
      "6\n",
      "Sorted:  [2, 2, 2, 2, 2, 3, 3, 3, 3, 3, 6, 6, 6, 6, 6, 6, 6]\n"
     ]
    }
   ],
   "source": [
    "# L41.py\n",
    "# ByungwoongAn 200ADB026\n",
    "\n",
    "def sort(nums):\n",
    "    for i in range(len(nums)-1,0,-1):\n",
    "        for j in range(i):\n",
    "            if nums[j]>nums[j+1]:\n",
    "                temp = nums[j]\n",
    "                nums[j] = nums[j+1]\n",
    "                nums[j+1] = temp\n",
    "\n",
    "\n",
    "def a_numberOfElementsInSet(list):\n",
    "    return len(list)\n",
    "\n",
    "def b_minimumNumericValueOfSetElement(list):\n",
    "    min = list[0]\n",
    "    for temp in list:\n",
    "        if min > temp:\n",
    "            min = temp\n",
    "    return min\n",
    "\n",
    "def c_maximumNumericValueOfSetElement(list):\n",
    "    max = list[0]\n",
    "    for temp in list:\n",
    "        if max < temp:\n",
    "            max = temp\n",
    "    return max\n",
    "def d_arithmeticAverageOfSet(list):\n",
    "    avg = 0\n",
    "    for temp in list:\n",
    "        avg+=temp\n",
    "    \n",
    "    return avg/len(list)\n",
    "\n",
    "def e_midianValueOfSet(list):\n",
    "    sort(list)\n",
    "    if len(list) % 2 == 0 :\n",
    "        avg = (list[(len(list)-1)//2] + list[(len(list)-1)//2+1])/2\n",
    "        return avg\n",
    "    else:\n",
    "        return list[(len(list)-1)//2]\n",
    "    \n",
    "def f_g_modeValueOfSet(list):\n",
    "    sort(list)\n",
    "    value = []\n",
    "    modeCount = []\n",
    "    index = 0\n",
    "    temp = None\n",
    "    for listIndex in list:\n",
    "        if temp == listIndex:\n",
    "            modeCount[index]+=1\n",
    "        else:\n",
    "            if temp != None:\n",
    "                index+=1\n",
    "            temp = listIndex\n",
    "            value.append(temp)\n",
    "            modeCount.append(1)\n",
    "    maxCount = c_maximumNumericValueOfSetElement(modeCount)\n",
    "    key = 0\n",
    "    for numOfMode in modeCount:\n",
    "        if numOfMode == maxCount:\n",
    "            key+=1\n",
    "        if key > 1:\n",
    "            return maxCount\n",
    "    for i in range(index+1):\n",
    "        if maxCount == modeCount[i]:\n",
    "            return value[i]\n",
    "\n",
    "nums = [5, 3, 8, 6, 7, 2]\n",
    "#nums = [3, 3, 3, 3, 2, 2, 2, 2, 2, 3, 6, 6, 6, 6, 6, 6, 6]\n",
    "print(\"Given: \", nums)\n",
    "sort(nums)\n",
    "# print(a_numberOfElementsInSet(nums))\n",
    "# print(b_minimumNumericValueOfSetElement(nums))\n",
    "# print(c_maximumNumericValueOfSetElement(nums))\n",
    "# print(d_arithmeticAverageOfSet(nums))\n",
    "# print(e_midianValueOfSet(nums))\n",
    "print(f_g_modeValueOfSet(nums))\n",
    "\n",
    "\n",
    "\n",
    "\n",
    "print(\"Sorted: \",nums)"
   ]
  },
  {
   "cell_type": "code",
   "execution_count": 40,
   "metadata": {},
   "outputs": [
    {
     "name": "stdout",
     "output_type": "stream",
     "text": [
      "Given:  ['B', 'Y', 'U', 'N', 'G', 'W', 'O', 'O', 'N', 'G']\n",
      "Sorted:  ['B', 'G', 'G', 'N', 'N', 'O', 'O', 'U', 'W', 'Y']\n",
      "--------------\n",
      "B   66\n",
      "G   71\n",
      "G   71\n",
      "N   78\n",
      "N   78\n",
      "O   79\n",
      "O   79\n",
      "U   85\n",
      "W   87\n",
      "Y   89\n"
     ]
    }
   ],
   "source": [
    "#L42.py\n",
    "#ByungwoongAn 200ADB026\n",
    "def sort(nums):\n",
    "    for i in range(len(nums)-1, 0, -1):\n",
    "        for j in range(i):\n",
    "            if nums[j]>nums[j+1]:\n",
    "                temp = nums[j]\n",
    "                nums[j] = nums[j+1]\n",
    "                nums[j+1] = temp\n",
    "nums = [\"B\",\"Y\",\"U\",\"N\",\"G\",\"W\",\"O\",\"O\",\"N\",\"G\"]\n",
    "\n",
    "print(\"Given: \", nums)\n",
    "sort(nums)\n",
    "print(\"Sorted: \", nums)\n",
    "print(\"--------------\")\n",
    "for k in range(len(nums)):\n",
    "    print(nums[k], \" \", ord(nums[k]))"
   ]
  },
  {
   "cell_type": "code",
   "execution_count": 41,
   "metadata": {},
   "outputs": [
    {
     "name": "stdout",
     "output_type": "stream",
     "text": [
      "input Character: a\n",
      "input Character: b\n",
      "input Character: c\n",
      "input Character: d\n",
      "input Character: e\n",
      "input Character: f\n",
      "input Character: g\n",
      "input Character: h\n",
      "input Character: j\n",
      "input Character: k\n",
      "input Character: l\n",
      "input Character: m\n",
      "input Character: n\n",
      "input Character: o\n",
      "input Character: p\n",
      "input Character: q\n",
      "input Character: r\n",
      "input Character: s\n",
      "input Character: t\n",
      "input Character: d\n",
      "a   97\n",
      "b   98\n",
      "c   99\n",
      "d   100\n",
      "e   101\n",
      "f   102\n",
      "g   103\n",
      "h   104\n",
      "j   106\n",
      "k   107\n",
      "l   108\n",
      "m   109\n",
      "n   110\n",
      "o   111\n",
      "p   112\n",
      "q   113\n",
      "r   114\n",
      "s   115\n",
      "t   116\n",
      "d   100\n"
     ]
    }
   ],
   "source": [
    "#L43.py\n",
    "#ByungwoongAn 200ADB026\n",
    "\n",
    "listFromKeyboard = []\n",
    "for i in range(20):\n",
    "    inputCharacter = input(\"input Character: \")\n",
    "    listFromKeyboard.append(inputCharacter)\n",
    "for k in range(len(listFromKeyboard)):\n",
    "    print(listFromKeyboard[k], \" \", ord(listFromKeyboard[k]))"
   ]
  },
  {
   "cell_type": "code",
   "execution_count": null,
   "metadata": {},
   "outputs": [],
   "source": []
  }
 ],
 "metadata": {
  "kernelspec": {
   "display_name": "Python 3",
   "language": "python",
   "name": "python3"
  },
  "language_info": {
   "codemirror_mode": {
    "name": "ipython",
    "version": 3
   },
   "file_extension": ".py",
   "mimetype": "text/x-python",
   "name": "python",
   "nbconvert_exporter": "python",
   "pygments_lexer": "ipython3",
   "version": "3.7.6"
  }
 },
 "nbformat": 4,
 "nbformat_minor": 2
}
